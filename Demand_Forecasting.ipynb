{
  "nbformat": 4,
  "nbformat_minor": 0,
  "metadata": {
    "colab": {
      "provenance": []
    },
    "kernelspec": {
      "name": "python3",
      "display_name": "Python 3"
    },
    "language_info": {
      "name": "python"
    }
  },
  "cells": [
    {
      "cell_type": "markdown",
      "source": [
        "#**Importing Libraries**"
      ],
      "metadata": {
        "id": "SoQMakDGXpKf"
      }
    },
    {
      "cell_type": "code",
      "execution_count": 44,
      "metadata": {
        "id": "HBtPT64FLYTy"
      },
      "outputs": [],
      "source": [
        "import pandas as pd\n",
        "import numpy as np\n",
        "from sklearn.model_selection import train_test_split, cross_val_score\n",
        "from sklearn.preprocessing import StandardScaler, OneHotEncoder\n",
        "from sklearn.ensemble import RandomForestRegressor\n",
        "from sklearn.linear_model import Ridge\n",
        "from sklearn.metrics import mean_absolute_error, mean_squared_error, r2_score, mean_absolute_percentage_error\n",
        "import matplotlib.pyplot as plt\n",
        "import seaborn as sns"
      ]
    },
    {
      "cell_type": "markdown",
      "source": [
        "#**Load dataset**"
      ],
      "metadata": {
        "id": "cPE3Z-6dX75V"
      }
    },
    {
      "cell_type": "code",
      "source": [
        "df = pd.read_csv(\"DataCoSupplyChainDataset.csv\", encoding=\"latin1\")"
      ],
      "metadata": {
        "id": "l0RNmU2XL5Lc"
      },
      "execution_count": 2,
      "outputs": []
    },
    {
      "cell_type": "markdown",
      "source": [
        "#**Data preprocessing**\n",
        "Dropping the features which are not important or duplicated"
      ],
      "metadata": {
        "id": "cR9wCJ50YF9B"
      }
    },
    {
      "cell_type": "code",
      "source": [
        "drop_cols = ['Type', 'Sales per customer', 'Delivery Status', 'Late_delivery_risk', 'Category Id', 'Category Name',\n",
        "             'Customer City', 'Customer Country', 'Customer Email', 'Customer Fname', 'Customer Id', 'Customer Lname',\n",
        "             'Customer Password', 'Customer Segment', 'Customer State', 'Customer Street', 'Customer Zipcode',\n",
        "             'Department Id', 'Department Name', 'Latitude', 'Longitude', 'Market', 'Order City', 'Order Country',\n",
        "             'Order Customer Id', 'Order Id', 'Order Item Cardprod Id', 'Order Item Discount Rate', 'Order Item Id',\n",
        "             'Order Profit Per Order', 'Order Region', 'Order State', 'Order Status', 'Order Zipcode',\n",
        "             'Product Category Id', 'Product Description', 'Product Image', 'Product Name', 'Product Price',\n",
        "             'Product Status', 'shipping date (DateOrders)', 'Shipping Mode']\n",
        "df.drop(columns=drop_cols, inplace=True)"
      ],
      "metadata": {
        "id": "tlYlU5kIL4l7"
      },
      "execution_count": 3,
      "outputs": []
    },
    {
      "cell_type": "markdown",
      "source": [
        "**Aggregate sales and quantity per product**\n",
        "\n",
        "Calculated total sales and average demand and standard deviation for each product"
      ],
      "metadata": {
        "id": "MMB1K_bTYW6F"
      }
    },
    {
      "cell_type": "code",
      "source": [
        "product_sales = df.groupby(\"Product Card Id\")[\"Sales\"].sum().reset_index()\n",
        "product_demand = df.groupby(\"Product Card Id\")[\"Order Item Quantity\"].agg([\"mean\", \"std\"]).reset_index()"
      ],
      "metadata": {
        "id": "LYLEiek4L2Fm"
      },
      "execution_count": 4,
      "outputs": []
    },
    {
      "cell_type": "markdown",
      "source": [
        "**Merge and Classify products**\n",
        "\n",
        "Merged the aggreagated data for ABC and XYZ classification"
      ],
      "metadata": {
        "id": "GwuqIbKvZl7I"
      }
    },
    {
      "cell_type": "code",
      "source": [
        "data = pd.merge(product_sales, product_demand, on=\"Product Card Id\")\n",
        "data.rename(columns={\"Sales\": \"Total Sales\"}, inplace=True)\n",
        "data.sort_values(by=\"Total Sales\", ascending=False, inplace=True)\n",
        "data[\"Cumulative Sales\"] = data[\"Total Sales\"].cumsum()\n",
        "total_sales = data[\"Total Sales\"].sum()\n",
        "data[\"Sales Percentage\"] = (data[\"Cumulative Sales\"] / total_sales) * 100\n",
        "\n",
        "data[\"ABC Category\"] = data[\"Sales Percentage\"].apply(lambda x: \"A\" if x <= 80 else \"B\" if x <= 95 else \"C\")\n",
        "data[\"CV\"] = data[\"std\"] / data[\"mean\"]\n",
        "data[\"XYZ Category\"] = data[\"CV\"].apply(lambda x: \"X\" if x < 0.5 else \"Y\" if x <= 1 else \"Z\")\n",
        "data[\"ABC-XYZ\"] = data[\"ABC Category\"] + data[\"XYZ Category\"]\n",
        "\n",
        "df = df.merge(data[[\"Product Card Id\", \"ABC-XYZ\"]], on=\"Product Card Id\", how=\"left\")\n",
        "df[\"Order Date\"] = pd.to_datetime(df[\"order date (DateOrders)\"]).dt.strftime(\"%m-%Y\")\n",
        "df.drop(columns=[\"order date (DateOrders)\"], inplace=True)\n",
        "\n",
        "target = \"Order Item Quantity\"\n",
        "df.dropna(subset=[target], inplace=True)"
      ],
      "metadata": {
        "id": "60a68SztL1Md"
      },
      "execution_count": 5,
      "outputs": []
    },
    {
      "cell_type": "markdown",
      "source": [
        "**Encoding Categorical Variables**\n",
        "\n",
        "Since we are using Regression, we need to encode categorical variable as it needs numerical data"
      ],
      "metadata": {
        "id": "R6Tri2cmaK_l"
      }
    },
    {
      "cell_type": "code",
      "source": [
        "encoder = OneHotEncoder(handle_unknown='ignore', sparse_output=False)\n",
        "categorical_encoded = encoder.fit_transform(df[[\"ABC-XYZ\"]])\n",
        "categorical_encoded = pd.DataFrame(categorical_encoded, columns=encoder.get_feature_names_out())\n",
        "\n",
        "df = df.join(categorical_encoded).drop(columns=[\"ABC-XYZ\"])"
      ],
      "metadata": {
        "id": "wRAIRXhSLxc3"
      },
      "execution_count": 7,
      "outputs": []
    },
    {
      "cell_type": "markdown",
      "source": [
        "**Feature scaling**\n",
        "\n",
        "Normalizing using z-score to ensure fair comparison between features"
      ],
      "metadata": {
        "id": "aNpnnrVpap4D"
      }
    },
    {
      "cell_type": "code",
      "source": [
        "scaler = StandardScaler()\n",
        "feature_cols = [col for col in df.columns if col not in [\"Order Item Quantity\", \"Order Date\", \"Product Card Id\"]]\n",
        "df[feature_cols] = scaler.fit_transform(df[feature_cols])"
      ],
      "metadata": {
        "id": "vkIIkkO1LwDt"
      },
      "execution_count": 45,
      "outputs": []
    },
    {
      "cell_type": "markdown",
      "source": [
        "# **Forecasting demand**"
      ],
      "metadata": {
        "id": "DlGWLUWKbecS"
      }
    },
    {
      "cell_type": "code",
      "source": [
        "forecast_results = []\n",
        "monthly_demand = df.groupby([\"Order Date\", \"Product Card Id\"])[\"Order Item Quantity\"].sum().reset_index()\n",
        "sub_df = monthly_demand.merge(df, on=[\"Product Card Id\", \"Order Date\"], how=\"inner\")\n",
        "sub_df.columns = sub_df.columns.str.strip()"
      ],
      "metadata": {
        "colab": {
          "base_uri": "https://localhost:8080/",
          "height": 345
        },
        "id": "Zmn0uQ0HLuFq",
        "outputId": "6d144a5d-436b-406d-9c4b-edaa8146d75b"
      },
      "execution_count": 21,
      "outputs": [
        {
          "output_type": "execute_result",
          "data": {
            "text/plain": [
              "  Order Date  Product Card Id  Order Item Quantity_x  \\\n",
              "0    01-2015               37                     11   \n",
              "1    01-2015               37                     11   \n",
              "2    01-2015               37                     11   \n",
              "3    01-2015               44                     26   \n",
              "4    01-2015               44                     26   \n",
              "\n",
              "   Days for shipping (real)  Days for shipment (scheduled)  Benefit per order  \\\n",
              "0                  0.942935                      -0.626384          -0.474410   \n",
              "1                 -0.906907                      -1.350064          -0.887571   \n",
              "2                  0.942935                      -0.626384           0.146745   \n",
              "3                  0.326321                       0.820976          -0.244692   \n",
              "4                  0.942935                      -0.626384           0.451087   \n",
              "\n",
              "   Order Item Discount  Order Item Product Price  Order Item Profit Ratio  \\\n",
              "0            -0.083078                 -0.772016                -0.755574   \n",
              "1            -0.687473                 -0.772016                -1.764781   \n",
              "2             0.178484                 -0.772016                 0.403941   \n",
              "3             0.328415                 -0.582916                -0.326124   \n",
              "4             0.188292                 -0.582916                 0.403941   \n",
              "\n",
              "   Order Item Quantity_y     Sales  Order Item Total  ABC-XYZ_AX  ABC-XYZ_BX  \\\n",
              "0                      4 -0.431720         -0.461474   -1.731818   -0.411308   \n",
              "1                      3 -0.698699         -0.647150   -1.731818   -0.411308   \n",
              "2                      4 -0.431720         -0.508630   -1.731818   -0.411308   \n",
              "3                      3 -0.126439         -0.198749   -1.731818   -0.411308   \n",
              "4                      4  0.331294          0.331670   -1.731818   -0.411308   \n",
              "\n",
              "   ABC-XYZ_BY  ABC-XYZ_CX  ABC-XYZ_CY  \n",
              "0   -0.059944    3.249228   -0.124446  \n",
              "1   -0.059944    3.249228   -0.124446  \n",
              "2   -0.059944    3.249228   -0.124446  \n",
              "3   16.682139   -0.307765   -0.124446  \n",
              "4   16.682139   -0.307765   -0.124446  "
            ],
            "text/html": [
              "\n",
              "  <div id=\"df-ad803c63-72b4-468d-ae07-06c5a6ec06d2\" class=\"colab-df-container\">\n",
              "    <div>\n",
              "<style scoped>\n",
              "    .dataframe tbody tr th:only-of-type {\n",
              "        vertical-align: middle;\n",
              "    }\n",
              "\n",
              "    .dataframe tbody tr th {\n",
              "        vertical-align: top;\n",
              "    }\n",
              "\n",
              "    .dataframe thead th {\n",
              "        text-align: right;\n",
              "    }\n",
              "</style>\n",
              "<table border=\"1\" class=\"dataframe\">\n",
              "  <thead>\n",
              "    <tr style=\"text-align: right;\">\n",
              "      <th></th>\n",
              "      <th>Order Date</th>\n",
              "      <th>Product Card Id</th>\n",
              "      <th>Order Item Quantity_x</th>\n",
              "      <th>Days for shipping (real)</th>\n",
              "      <th>Days for shipment (scheduled)</th>\n",
              "      <th>Benefit per order</th>\n",
              "      <th>Order Item Discount</th>\n",
              "      <th>Order Item Product Price</th>\n",
              "      <th>Order Item Profit Ratio</th>\n",
              "      <th>Order Item Quantity_y</th>\n",
              "      <th>Sales</th>\n",
              "      <th>Order Item Total</th>\n",
              "      <th>ABC-XYZ_AX</th>\n",
              "      <th>ABC-XYZ_BX</th>\n",
              "      <th>ABC-XYZ_BY</th>\n",
              "      <th>ABC-XYZ_CX</th>\n",
              "      <th>ABC-XYZ_CY</th>\n",
              "    </tr>\n",
              "  </thead>\n",
              "  <tbody>\n",
              "    <tr>\n",
              "      <th>0</th>\n",
              "      <td>01-2015</td>\n",
              "      <td>37</td>\n",
              "      <td>11</td>\n",
              "      <td>0.942935</td>\n",
              "      <td>-0.626384</td>\n",
              "      <td>-0.474410</td>\n",
              "      <td>-0.083078</td>\n",
              "      <td>-0.772016</td>\n",
              "      <td>-0.755574</td>\n",
              "      <td>4</td>\n",
              "      <td>-0.431720</td>\n",
              "      <td>-0.461474</td>\n",
              "      <td>-1.731818</td>\n",
              "      <td>-0.411308</td>\n",
              "      <td>-0.059944</td>\n",
              "      <td>3.249228</td>\n",
              "      <td>-0.124446</td>\n",
              "    </tr>\n",
              "    <tr>\n",
              "      <th>1</th>\n",
              "      <td>01-2015</td>\n",
              "      <td>37</td>\n",
              "      <td>11</td>\n",
              "      <td>-0.906907</td>\n",
              "      <td>-1.350064</td>\n",
              "      <td>-0.887571</td>\n",
              "      <td>-0.687473</td>\n",
              "      <td>-0.772016</td>\n",
              "      <td>-1.764781</td>\n",
              "      <td>3</td>\n",
              "      <td>-0.698699</td>\n",
              "      <td>-0.647150</td>\n",
              "      <td>-1.731818</td>\n",
              "      <td>-0.411308</td>\n",
              "      <td>-0.059944</td>\n",
              "      <td>3.249228</td>\n",
              "      <td>-0.124446</td>\n",
              "    </tr>\n",
              "    <tr>\n",
              "      <th>2</th>\n",
              "      <td>01-2015</td>\n",
              "      <td>37</td>\n",
              "      <td>11</td>\n",
              "      <td>0.942935</td>\n",
              "      <td>-0.626384</td>\n",
              "      <td>0.146745</td>\n",
              "      <td>0.178484</td>\n",
              "      <td>-0.772016</td>\n",
              "      <td>0.403941</td>\n",
              "      <td>4</td>\n",
              "      <td>-0.431720</td>\n",
              "      <td>-0.508630</td>\n",
              "      <td>-1.731818</td>\n",
              "      <td>-0.411308</td>\n",
              "      <td>-0.059944</td>\n",
              "      <td>3.249228</td>\n",
              "      <td>-0.124446</td>\n",
              "    </tr>\n",
              "    <tr>\n",
              "      <th>3</th>\n",
              "      <td>01-2015</td>\n",
              "      <td>44</td>\n",
              "      <td>26</td>\n",
              "      <td>0.326321</td>\n",
              "      <td>0.820976</td>\n",
              "      <td>-0.244692</td>\n",
              "      <td>0.328415</td>\n",
              "      <td>-0.582916</td>\n",
              "      <td>-0.326124</td>\n",
              "      <td>3</td>\n",
              "      <td>-0.126439</td>\n",
              "      <td>-0.198749</td>\n",
              "      <td>-1.731818</td>\n",
              "      <td>-0.411308</td>\n",
              "      <td>16.682139</td>\n",
              "      <td>-0.307765</td>\n",
              "      <td>-0.124446</td>\n",
              "    </tr>\n",
              "    <tr>\n",
              "      <th>4</th>\n",
              "      <td>01-2015</td>\n",
              "      <td>44</td>\n",
              "      <td>26</td>\n",
              "      <td>0.942935</td>\n",
              "      <td>-0.626384</td>\n",
              "      <td>0.451087</td>\n",
              "      <td>0.188292</td>\n",
              "      <td>-0.582916</td>\n",
              "      <td>0.403941</td>\n",
              "      <td>4</td>\n",
              "      <td>0.331294</td>\n",
              "      <td>0.331670</td>\n",
              "      <td>-1.731818</td>\n",
              "      <td>-0.411308</td>\n",
              "      <td>16.682139</td>\n",
              "      <td>-0.307765</td>\n",
              "      <td>-0.124446</td>\n",
              "    </tr>\n",
              "  </tbody>\n",
              "</table>\n",
              "</div>\n",
              "    <div class=\"colab-df-buttons\">\n",
              "\n",
              "  <div class=\"colab-df-container\">\n",
              "    <button class=\"colab-df-convert\" onclick=\"convertToInteractive('df-ad803c63-72b4-468d-ae07-06c5a6ec06d2')\"\n",
              "            title=\"Convert this dataframe to an interactive table.\"\n",
              "            style=\"display:none;\">\n",
              "\n",
              "  <svg xmlns=\"http://www.w3.org/2000/svg\" height=\"24px\" viewBox=\"0 -960 960 960\">\n",
              "    <path d=\"M120-120v-720h720v720H120Zm60-500h600v-160H180v160Zm220 220h160v-160H400v160Zm0 220h160v-160H400v160ZM180-400h160v-160H180v160Zm440 0h160v-160H620v160ZM180-180h160v-160H180v160Zm440 0h160v-160H620v160Z\"/>\n",
              "  </svg>\n",
              "    </button>\n",
              "\n",
              "  <style>\n",
              "    .colab-df-container {\n",
              "      display:flex;\n",
              "      gap: 12px;\n",
              "    }\n",
              "\n",
              "    .colab-df-convert {\n",
              "      background-color: #E8F0FE;\n",
              "      border: none;\n",
              "      border-radius: 50%;\n",
              "      cursor: pointer;\n",
              "      display: none;\n",
              "      fill: #1967D2;\n",
              "      height: 32px;\n",
              "      padding: 0 0 0 0;\n",
              "      width: 32px;\n",
              "    }\n",
              "\n",
              "    .colab-df-convert:hover {\n",
              "      background-color: #E2EBFA;\n",
              "      box-shadow: 0px 1px 2px rgba(60, 64, 67, 0.3), 0px 1px 3px 1px rgba(60, 64, 67, 0.15);\n",
              "      fill: #174EA6;\n",
              "    }\n",
              "\n",
              "    .colab-df-buttons div {\n",
              "      margin-bottom: 4px;\n",
              "    }\n",
              "\n",
              "    [theme=dark] .colab-df-convert {\n",
              "      background-color: #3B4455;\n",
              "      fill: #D2E3FC;\n",
              "    }\n",
              "\n",
              "    [theme=dark] .colab-df-convert:hover {\n",
              "      background-color: #434B5C;\n",
              "      box-shadow: 0px 1px 3px 1px rgba(0, 0, 0, 0.15);\n",
              "      filter: drop-shadow(0px 1px 2px rgba(0, 0, 0, 0.3));\n",
              "      fill: #FFFFFF;\n",
              "    }\n",
              "  </style>\n",
              "\n",
              "    <script>\n",
              "      const buttonEl =\n",
              "        document.querySelector('#df-ad803c63-72b4-468d-ae07-06c5a6ec06d2 button.colab-df-convert');\n",
              "      buttonEl.style.display =\n",
              "        google.colab.kernel.accessAllowed ? 'block' : 'none';\n",
              "\n",
              "      async function convertToInteractive(key) {\n",
              "        const element = document.querySelector('#df-ad803c63-72b4-468d-ae07-06c5a6ec06d2');\n",
              "        const dataTable =\n",
              "          await google.colab.kernel.invokeFunction('convertToInteractive',\n",
              "                                                    [key], {});\n",
              "        if (!dataTable) return;\n",
              "\n",
              "        const docLinkHtml = 'Like what you see? Visit the ' +\n",
              "          '<a target=\"_blank\" href=https://colab.research.google.com/notebooks/data_table.ipynb>data table notebook</a>'\n",
              "          + ' to learn more about interactive tables.';\n",
              "        element.innerHTML = '';\n",
              "        dataTable['output_type'] = 'display_data';\n",
              "        await google.colab.output.renderOutput(dataTable, element);\n",
              "        const docLink = document.createElement('div');\n",
              "        docLink.innerHTML = docLinkHtml;\n",
              "        element.appendChild(docLink);\n",
              "      }\n",
              "    </script>\n",
              "  </div>\n",
              "\n",
              "\n",
              "<div id=\"df-fd13efc0-9395-4e07-aa6f-ef40991b19ea\">\n",
              "  <button class=\"colab-df-quickchart\" onclick=\"quickchart('df-fd13efc0-9395-4e07-aa6f-ef40991b19ea')\"\n",
              "            title=\"Suggest charts\"\n",
              "            style=\"display:none;\">\n",
              "\n",
              "<svg xmlns=\"http://www.w3.org/2000/svg\" height=\"24px\"viewBox=\"0 0 24 24\"\n",
              "     width=\"24px\">\n",
              "    <g>\n",
              "        <path d=\"M19 3H5c-1.1 0-2 .9-2 2v14c0 1.1.9 2 2 2h14c1.1 0 2-.9 2-2V5c0-1.1-.9-2-2-2zM9 17H7v-7h2v7zm4 0h-2V7h2v10zm4 0h-2v-4h2v4z\"/>\n",
              "    </g>\n",
              "</svg>\n",
              "  </button>\n",
              "\n",
              "<style>\n",
              "  .colab-df-quickchart {\n",
              "      --bg-color: #E8F0FE;\n",
              "      --fill-color: #1967D2;\n",
              "      --hover-bg-color: #E2EBFA;\n",
              "      --hover-fill-color: #174EA6;\n",
              "      --disabled-fill-color: #AAA;\n",
              "      --disabled-bg-color: #DDD;\n",
              "  }\n",
              "\n",
              "  [theme=dark] .colab-df-quickchart {\n",
              "      --bg-color: #3B4455;\n",
              "      --fill-color: #D2E3FC;\n",
              "      --hover-bg-color: #434B5C;\n",
              "      --hover-fill-color: #FFFFFF;\n",
              "      --disabled-bg-color: #3B4455;\n",
              "      --disabled-fill-color: #666;\n",
              "  }\n",
              "\n",
              "  .colab-df-quickchart {\n",
              "    background-color: var(--bg-color);\n",
              "    border: none;\n",
              "    border-radius: 50%;\n",
              "    cursor: pointer;\n",
              "    display: none;\n",
              "    fill: var(--fill-color);\n",
              "    height: 32px;\n",
              "    padding: 0;\n",
              "    width: 32px;\n",
              "  }\n",
              "\n",
              "  .colab-df-quickchart:hover {\n",
              "    background-color: var(--hover-bg-color);\n",
              "    box-shadow: 0 1px 2px rgba(60, 64, 67, 0.3), 0 1px 3px 1px rgba(60, 64, 67, 0.15);\n",
              "    fill: var(--button-hover-fill-color);\n",
              "  }\n",
              "\n",
              "  .colab-df-quickchart-complete:disabled,\n",
              "  .colab-df-quickchart-complete:disabled:hover {\n",
              "    background-color: var(--disabled-bg-color);\n",
              "    fill: var(--disabled-fill-color);\n",
              "    box-shadow: none;\n",
              "  }\n",
              "\n",
              "  .colab-df-spinner {\n",
              "    border: 2px solid var(--fill-color);\n",
              "    border-color: transparent;\n",
              "    border-bottom-color: var(--fill-color);\n",
              "    animation:\n",
              "      spin 1s steps(1) infinite;\n",
              "  }\n",
              "\n",
              "  @keyframes spin {\n",
              "    0% {\n",
              "      border-color: transparent;\n",
              "      border-bottom-color: var(--fill-color);\n",
              "      border-left-color: var(--fill-color);\n",
              "    }\n",
              "    20% {\n",
              "      border-color: transparent;\n",
              "      border-left-color: var(--fill-color);\n",
              "      border-top-color: var(--fill-color);\n",
              "    }\n",
              "    30% {\n",
              "      border-color: transparent;\n",
              "      border-left-color: var(--fill-color);\n",
              "      border-top-color: var(--fill-color);\n",
              "      border-right-color: var(--fill-color);\n",
              "    }\n",
              "    40% {\n",
              "      border-color: transparent;\n",
              "      border-right-color: var(--fill-color);\n",
              "      border-top-color: var(--fill-color);\n",
              "    }\n",
              "    60% {\n",
              "      border-color: transparent;\n",
              "      border-right-color: var(--fill-color);\n",
              "    }\n",
              "    80% {\n",
              "      border-color: transparent;\n",
              "      border-right-color: var(--fill-color);\n",
              "      border-bottom-color: var(--fill-color);\n",
              "    }\n",
              "    90% {\n",
              "      border-color: transparent;\n",
              "      border-bottom-color: var(--fill-color);\n",
              "    }\n",
              "  }\n",
              "</style>\n",
              "\n",
              "  <script>\n",
              "    async function quickchart(key) {\n",
              "      const quickchartButtonEl =\n",
              "        document.querySelector('#' + key + ' button');\n",
              "      quickchartButtonEl.disabled = true;  // To prevent multiple clicks.\n",
              "      quickchartButtonEl.classList.add('colab-df-spinner');\n",
              "      try {\n",
              "        const charts = await google.colab.kernel.invokeFunction(\n",
              "            'suggestCharts', [key], {});\n",
              "      } catch (error) {\n",
              "        console.error('Error during call to suggestCharts:', error);\n",
              "      }\n",
              "      quickchartButtonEl.classList.remove('colab-df-spinner');\n",
              "      quickchartButtonEl.classList.add('colab-df-quickchart-complete');\n",
              "    }\n",
              "    (() => {\n",
              "      let quickchartButtonEl =\n",
              "        document.querySelector('#df-fd13efc0-9395-4e07-aa6f-ef40991b19ea button');\n",
              "      quickchartButtonEl.style.display =\n",
              "        google.colab.kernel.accessAllowed ? 'block' : 'none';\n",
              "    })();\n",
              "  </script>\n",
              "</div>\n",
              "\n",
              "    </div>\n",
              "  </div>\n"
            ],
            "application/vnd.google.colaboratory.intrinsic+json": {
              "type": "dataframe",
              "variable_name": "sub_df",
              "summary": "{\n  \"name\": \"sub_df\",\n  \"rows\": 89374,\n  \"fields\": [\n    {\n      \"column\": \"Order Date\",\n      \"properties\": {\n        \"dtype\": \"object\",\n        \"num_unique_values\": 37,\n        \"samples\": [\n          \"06-2016\",\n          \"05-2015\",\n          \"02-2015\"\n        ],\n        \"semantic_type\": \"\",\n        \"description\": \"\"\n      }\n    },\n    {\n      \"column\": \"Product Card Id\",\n      \"properties\": {\n        \"dtype\": \"number\",\n        \"std\": 341,\n        \"min\": 19,\n        \"max\": 1363,\n        \"num_unique_values\": 118,\n        \"samples\": [\n          1357,\n          773,\n          134\n        ],\n        \"semantic_type\": \"\",\n        \"description\": \"\"\n      }\n    },\n    {\n      \"column\": \"Order Item Quantity_x\",\n      \"properties\": {\n        \"dtype\": \"number\",\n        \"std\": 403,\n        \"min\": 1,\n        \"max\": 1699,\n        \"num_unique_values\": 292,\n        \"samples\": [\n          37,\n          602,\n          496\n        ],\n        \"semantic_type\": \"\",\n        \"description\": \"\"\n      }\n    },\n    {\n      \"column\": \"Days for shipping (real)\",\n      \"properties\": {\n        \"dtype\": \"number\",\n        \"std\": 1.0000055945150776,\n        \"min\": -2.1401344294011064,\n        \"max\": 1.5595485052398872,\n        \"num_unique_values\": 7,\n        \"samples\": [\n          0.9429346827997216,\n          -0.9069067845207753,\n          -1.5235206069609408\n        ],\n        \"semantic_type\": \"\",\n        \"description\": \"\"\n      }\n    },\n    {\n      \"column\": \"Days for shipment (scheduled)\",\n      \"properties\": {\n        \"dtype\": \"number\",\n        \"std\": 1.0000055945144732,\n        \"min\": -2.0737447090993752,\n        \"max\": 0.820976377185953,\n        \"num_unique_values\": 4,\n        \"samples\": [\n          -1.3500644375280435,\n          -2.0737447090993752,\n          -0.6263841659567113\n        ],\n        \"semantic_type\": \"\",\n        \"description\": \"\"\n      }\n    },\n    {\n      \"column\": \"Benefit per order\",\n      \"properties\": {\n        \"dtype\": \"number\",\n        \"std\": 1.0000055945151276,\n        \"min\": -41.854660767946704,\n        \"max\": 8.20967757271357,\n        \"num_unique_values\": 16978,\n        \"samples\": [\n          -0.8681845553997899,\n          -0.6311598428223194,\n          0.3145035996053586\n        ],\n        \"semantic_type\": \"\",\n        \"description\": \"\"\n      }\n    },\n    {\n      \"column\": \"Order Item Discount\",\n      \"properties\": {\n        \"dtype\": \"number\",\n        \"std\": 1.0000055945151087,\n        \"min\": -0.9326877490849215,\n        \"max\": 22.421065476333094,\n        \"num_unique_values\": 979,\n        \"samples\": [\n          -0.5968607750410826,\n          2.0098851573177487,\n          0.26255734799809877\n        ],\n        \"semantic_type\": \"\",\n        \"description\": \"\"\n      }\n    },\n    {\n      \"column\": \"Order Item Product Price\",\n      \"properties\": {\n        \"dtype\": \"number\",\n        \"std\": 1.0000055945152095,\n        \"min\": -0.9611173200910204,\n        \"max\": 14.091307091335745,\n        \"num_unique_values\": 75,\n        \"samples\": [\n          -0.8475811919644463,\n          14.091307091335745,\n          -0.7947086071953843\n        ],\n        \"semantic_type\": \"\",\n        \"description\": \"\"\n      }\n    },\n    {\n      \"column\": \"Order Item Profit Ratio\",\n      \"properties\": {\n        \"dtype\": \"number\",\n        \"std\": 1.0000055945151114,\n        \"min\": -6.166643843772173,\n        \"max\": 0.8119184628169176,\n        \"num_unique_values\": 162,\n        \"samples\": [\n          -2.5807365354873726,\n          -0.8414640149793239,\n          -1.8506714848618808\n        ],\n        \"semantic_type\": \"\",\n        \"description\": \"\"\n      }\n    },\n    {\n      \"column\": \"Order Item Quantity_y\",\n      \"properties\": {\n        \"dtype\": \"number\",\n        \"std\": 1,\n        \"min\": 1,\n        \"max\": 5,\n        \"num_unique_values\": 5,\n        \"samples\": [\n          3,\n          2,\n          5\n        ],\n        \"semantic_type\": \"\",\n        \"description\": \"\"\n      }\n    },\n    {\n      \"column\": \"Sales\",\n      \"properties\": {\n        \"dtype\": \"number\",\n        \"std\": 1.0000055945150088,\n        \"min\": -1.42340968647752,\n        \"max\": 13.760567977283504,\n        \"num_unique_values\": 193,\n        \"samples\": [\n          -1.255546616011315,\n          2.1243001014263276,\n          -1.04213161758733\n        ],\n        \"semantic_type\": \"\",\n        \"description\": \"\"\n      }\n    },\n    {\n      \"column\": \"Order Item Total\",\n      \"properties\": {\n        \"dtype\": \"number\",\n        \"std\": 1.0000055945151656,\n        \"min\": -1.4237889831455888,\n        \"max\": 14.680759956409293,\n        \"num_unique_values\": 2774,\n        \"samples\": [\n          -1.3256880733581244,\n          -0.12287828363112396,\n          -0.8975807080221417\n        ],\n        \"semantic_type\": \"\",\n        \"description\": \"\"\n      }\n    },\n    {\n      \"column\": \"ABC-XYZ_AX\",\n      \"properties\": {\n        \"dtype\": \"number\",\n        \"std\": 1.0000055945148338,\n        \"min\": -1.7318182811130065,\n        \"max\": 0.5774277884151444,\n        \"num_unique_values\": 2,\n        \"samples\": [\n          0.5774277884151444,\n          -1.7318182811130065\n        ],\n        \"semantic_type\": \"\",\n        \"description\": \"\"\n      }\n    },\n    {\n      \"column\": \"ABC-XYZ_BX\",\n      \"properties\": {\n        \"dtype\": \"number\",\n        \"std\": 1.0000055945150788,\n        \"min\": -0.411307688094133,\n        \"max\": 2.4312698958623344,\n        \"num_unique_values\": 2,\n        \"samples\": [\n          2.4312698958623344,\n          -0.411307688094133\n        ],\n        \"semantic_type\": \"\",\n        \"description\": \"\"\n      }\n    },\n    {\n      \"column\": \"ABC-XYZ_BY\",\n      \"properties\": {\n        \"dtype\": \"number\",\n        \"std\": 1.0000055945145743,\n        \"min\": -0.05994435251191795,\n        \"max\": 16.682138651863557,\n        \"num_unique_values\": 2,\n        \"samples\": [\n          16.682138651863557,\n          -0.05994435251191795\n        ],\n        \"semantic_type\": \"\",\n        \"description\": \"\"\n      }\n    },\n    {\n      \"column\": \"ABC-XYZ_CX\",\n      \"properties\": {\n        \"dtype\": \"number\",\n        \"std\": 1.000005594515239,\n        \"min\": -0.30776543815783874,\n        \"max\": 3.2492277430032477,\n        \"num_unique_values\": 2,\n        \"samples\": [\n          -0.30776543815783874,\n          3.2492277430032477\n        ],\n        \"semantic_type\": \"\",\n        \"description\": \"\"\n      }\n    },\n    {\n      \"column\": \"ABC-XYZ_CY\",\n      \"properties\": {\n        \"dtype\": \"number\",\n        \"std\": 1.0000055945160593,\n        \"min\": -0.12444557254507131,\n        \"max\": 8.03564144186667,\n        \"num_unique_values\": 2,\n        \"samples\": [\n          8.03564144186667,\n          -0.12444557254507131\n        ],\n        \"semantic_type\": \"\",\n        \"description\": \"\"\n      }\n    }\n  ]\n}"
            }
          },
          "metadata": {},
          "execution_count": 21
        }
      ]
    },
    {
      "cell_type": "markdown",
      "source": [
        "#**Training, Testing and Evaluating the Model**\n",
        "\n",
        "This script performs demand forecasting based on ABC-XYZ classification by training separate models for each category. It filters the dataset for each classification, selects relevant features, and splits the data into training and testing sets. Two models, Ridge Regression and Random Forest Regressor, are trained and evaluated using cross-validation and multiple error metrics (MAE, RMSE, MAPE, and R-Squared Score). The actual and predicted demand values are stored for each category, enabling comparative analysis. Finally, all results are combined into a single dataframe for further analysis and visualization."
      ],
      "metadata": {
        "id": "ki8roaZCbpBz"
      }
    },
    {
      "cell_type": "code",
      "source": [
        "for category in sub_df.columns[sub_df.columns.str.contains(\"ABC-XYZ_\")]:\n",
        "    print(category)\n",
        "    filtered_df = sub_df[sub_df[category] > 0]\n",
        "\n",
        "    if \"Order Item Quantity_x\" not in filtered_df.columns:\n",
        "        raise KeyError(\"Column 'Order Item Quantity' not found in filtered_df\")\n",
        "\n",
        "    X = filtered_df[feature_cols]\n",
        "    y = filtered_df[\"Order Item Quantity_x\"]\n",
        "\n",
        "    X_train, X_test, y_train, y_test = train_test_split(X, y, test_size=0.15, random_state=42)\n",
        "\n",
        "    model = Ridge(alpha=5.0)  # Regularized linear model\n",
        "    model_rf = RandomForestRegressor(n_estimators=200, max_depth=10, min_samples_split=5, random_state=42)  # Tuned Random Forest  # Regularized linear model\n",
        "    model.fit(X_train, y_train)\n",
        "    model_rf.fit(X_train, y_train)\n",
        "    scores = cross_val_score(model, X_train, y_train, cv=5)\n",
        "    print(f\"Cross-Validation Score (Ridge): {np.mean(scores):.2f}\")\n",
        "    y_pred = model.predict(X_test)\n",
        "    scores_rf = cross_val_score(model_rf, X_train, y_train, cv=5)\n",
        "    print(f\"Cross-Validation Score (RF): {np.mean(scores_rf):.2f}\")\n",
        "    y_pred_rf = model_rf.predict(X_test)\n",
        "\n",
        "    print(f\"Performance for {category}:\")\n",
        "    print(f\"MAE: {mean_absolute_error(y_test, y_pred):.2f}\")\n",
        "    print(f\"RMSE: {np.sqrt(mean_squared_error(y_test, y_pred)):.2f}\")\n",
        "    print(f\"MAPE: {mean_absolute_percentage_error(y_test, y_pred):.2f}\")\n",
        "    print(f\"R^2 Score: {r2_score(y_test, y_pred):.2f}\\n\")\n",
        "\n",
        "    print(f\"Performance for {category} (Random Forest):\")\n",
        "    print(f\"MAE: {mean_absolute_error(y_test, y_pred_rf):.2f}\")\n",
        "    print(f\"RMSE: {np.sqrt(mean_squared_error(y_test, y_pred_rf)):.2f}\")\n",
        "    print(f\"MAPE: {mean_absolute_percentage_error(y_test, y_pred_rf):.2f}\")\n",
        "    print(f\"R^2 Score: {r2_score(y_test, y_pred_rf):.2f}\\n\")\n",
        "\n",
        "    results_df = filtered_df[[\"Order Date\"]].iloc[:len(y_test)].copy()\n",
        "    results_df[\"Actual Demand\"] = y_test.values\n",
        "    results_df[\"Predicted Demand\"] = y_pred\n",
        "    results_df[\"Category\"] = category\n",
        "    forecast_results.append(results_df)\n",
        "\n",
        "forecast_df = pd.concat(forecast_results)"
      ],
      "metadata": {
        "colab": {
          "base_uri": "https://localhost:8080/"
        },
        "id": "z7Ks0094Lmb8",
        "outputId": "c919b999-b4d5-432d-8806-96da4bd5805e"
      },
      "execution_count": 40,
      "outputs": [
        {
          "output_type": "stream",
          "name": "stdout",
          "text": [
            "ABC-XYZ_AX\n",
            "Cross-Validation Score (Ridge): 0.63\n",
            "Cross-Validation Score (RF): 0.97\n",
            "Performance for ABC-XYZ_AX:\n",
            "MAE: 173.69\n",
            "RMSE: 219.03\n",
            "MAPE: 0.36\n",
            "R^2 Score: 0.63\n",
            "\n",
            "Performance for ABC-XYZ_AX (Random Forest):\n",
            "MAE: 38.27\n",
            "RMSE: 57.14\n",
            "MAPE: 0.09\n",
            "R^2 Score: 0.98\n",
            "\n",
            "ABC-XYZ_BX\n",
            "Cross-Validation Score (Ridge): 0.07\n",
            "Cross-Validation Score (RF): 0.83\n",
            "Performance for ABC-XYZ_BX:\n",
            "MAE: 248.40\n",
            "RMSE: 388.37\n",
            "MAPE: 4.30\n",
            "R^2 Score: 0.07\n",
            "\n",
            "Performance for ABC-XYZ_BX (Random Forest):\n",
            "MAE: 84.58\n",
            "RMSE: 190.06\n",
            "MAPE: 0.76\n",
            "R^2 Score: 0.78\n",
            "\n",
            "ABC-XYZ_BY\n",
            "Cross-Validation Score (Ridge): 0.04\n",
            "Cross-Validation Score (RF): -0.06\n",
            "Performance for ABC-XYZ_BY:\n",
            "MAE: 5.38\n",
            "RMSE: 6.41\n",
            "MAPE: 0.34\n",
            "R^2 Score: -0.07\n",
            "\n",
            "Performance for ABC-XYZ_BY (Random Forest):\n",
            "MAE: 5.83\n",
            "RMSE: 7.09\n",
            "MAPE: 0.38\n",
            "R^2 Score: -0.30\n",
            "\n",
            "ABC-XYZ_CX\n",
            "Cross-Validation Score (Ridge): 0.08\n",
            "Cross-Validation Score (RF): 0.90\n",
            "Performance for ABC-XYZ_CX:\n",
            "MAE: 57.88\n",
            "RMSE: 83.10\n",
            "MAPE: 2.35\n",
            "R^2 Score: 0.12\n",
            "\n",
            "Performance for ABC-XYZ_CX (Random Forest):\n",
            "MAE: 12.56\n",
            "RMSE: 25.72\n",
            "MAPE: 0.43\n",
            "R^2 Score: 0.92\n",
            "\n",
            "ABC-XYZ_CY\n",
            "Cross-Validation Score (Ridge): 0.04\n",
            "Cross-Validation Score (RF): 0.07\n",
            "Performance for ABC-XYZ_CY:\n",
            "MAE: 6.03\n",
            "RMSE: 7.82\n",
            "MAPE: 0.43\n",
            "R^2 Score: 0.03\n",
            "\n",
            "Performance for ABC-XYZ_CY (Random Forest):\n",
            "MAE: 6.07\n",
            "RMSE: 7.73\n",
            "MAPE: 0.41\n",
            "R^2 Score: 0.05\n",
            "\n"
          ]
        }
      ]
    },
    {
      "cell_type": "markdown",
      "source": [
        "Based on the Results, we can see that Random Forest Regressor provides better R-Squared Score. Based on MAPE as well, the variance is under control for the products that are revenue drivers. As for other products, we can try using statistical models to get better accuracy an derror measure values."
      ],
      "metadata": {
        "id": "ypZnR4LVcZMJ"
      }
    },
    {
      "cell_type": "markdown",
      "source": [
        "#**Visualizing results for evaluation**\n",
        "\n",
        " The **Residual Plot** helps to check if the residuals are random or contains some pattern. The red LOWESS (Locally Weighted Scatterplot Smoothing) line suggests a slight trend, which could indicate non-linearity. Also, the spread of residuals appears to increase at higher Actual Demand values, suggesting that the model may struggle to predict higher demand accurately."
      ],
      "metadata": {
        "id": "t4zJSCH6fycD"
      }
    },
    {
      "cell_type": "code",
      "source": [
        "plt.figure(figsize=(10,6))\n",
        "sns.residplot(x=y_test, y=y_pred, lowess=True, line_kws={'color': 'red', 'lw': 2})\n",
        "plt.xlabel(\"Actual Demand\")\n",
        "plt.ylabel(\"Residuals\")\n",
        "plt.title(\"Residual Plot\")\n",
        "plt.show()"
      ],
      "metadata": {
        "colab": {
          "base_uri": "https://localhost:8080/",
          "height": 564
        },
        "id": "rcgQajV5LjaB",
        "outputId": "0201f597-f6e7-467b-e194-5d0673059b2f"
      },
      "execution_count": 41,
      "outputs": [
        {
          "output_type": "display_data",
          "data": {
            "text/plain": [
              "<Figure size 1000x600 with 1 Axes>"
            ],
            "image/png": "[encoded data removed]"
          },
          "metadata": {}
        }
      ]
    },
    {
      "cell_type": "markdown",
      "source": [
        "The **Error Distribution Plot** helps to visualizes the distribution of prediction errors. The distribution looks centered with a small right skewed tail suggesting that model can overestimates the demand."
      ],
      "metadata": {
        "id": "LE1c5opghmAz"
      }
    },
    {
      "cell_type": "code",
      "source": [
        "errors = y_test - y_pred\n",
        "plt.figure(figsize=(10,6))\n",
        "sns.histplot(errors, bins=30, kde=True)\n",
        "plt.xlabel(\"Prediction Error\")\n",
        "plt.ylabel(\"Frequency\")\n",
        "plt.title(\"Error Distribution\")\n",
        "plt.show()"
      ],
      "metadata": {
        "colab": {
          "base_uri": "https://localhost:8080/",
          "height": 564
        },
        "id": "0ko3O4e4XEVf",
        "outputId": "57a3c2cd-4282-4bc2-9202-c67c0760aa04"
      },
      "execution_count": 42,
      "outputs": [
        {
          "output_type": "display_data",
          "data": {
            "text/plain": [
              "<Figure size 1000x600 with 1 Axes>"
            ],
            "image/png": "[encoded data removed]"
          },
          "metadata": {}
        }
      ]
    },
    {
      "cell_type": "markdown",
      "source": [
        "#**Future Scope**\n",
        "\n",
        "The current demand forecasting model provides a strong foundation, but there are several areas for future improvement. First, incorporating additional external factors such as seasonal trends, economic indicators, or competitor pricing could enhance predictive accuracy. Second, experimenting with advanced machine learning models like XGBoost or deep learning techniques could improve performance, especially in handling non-linear relationships. Third, refining the feature selection process using automated techniques like Recursive Feature Elimination (RFE) may help eliminate redundant variables and improve model efficiency. Lastly, implementing real-time forecasting with dynamic updates based on incoming data could make the model more responsive to changing demand patterns."
      ],
      "metadata": {
        "id": "WkcKvTl-jeM0"
      }
    }
  ]
}